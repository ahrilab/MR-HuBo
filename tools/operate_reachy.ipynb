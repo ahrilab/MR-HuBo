{
 "cells": [
  {
   "cell_type": "code",
   "execution_count": 1,
   "id": "f22c8999",
   "metadata": {},
   "outputs": [
    {
     "name": "stderr",
     "output_type": "stream",
     "text": [
      "/home/reachy/anaconda3/envs/py310/lib/python3.10/site-packages/tqdm/auto.py:21: TqdmWarning: IProgress not found. Please update jupyter and ipywidgets. See https://ipywidgets.readthedocs.io/en/stable/user_install.html\n",
      "  from .autonotebook import tqdm as notebook_tqdm\n",
      "INFO:OpenGL.acceleratesupport:No OpenGL_accelerate module loaded: No module named 'OpenGL_accelerate'\n"
     ]
    }
   ],
   "source": [
    "%matplotlib notebook\n",
    "import cv2\n",
    "import time\n",
    "import pickle\n",
    "import numpy as np\n",
    "import matplotlib.pyplot as plt\n",
    "\n",
    "from reachy_sdk.trajectory import goto_async, goto"
   ]
  },
  {
   "cell_type": "code",
   "execution_count": 2,
   "id": "e89982e2",
   "metadata": {},
   "outputs": [],
   "source": [
    "from reachy_sdk import ReachySDK\n",
    "\n",
    "# Replace with the actual IP you've found.\n",
    "reachy = ReachySDK(host='192.168.0.60')"
   ]
  },
  {
   "cell_type": "code",
   "execution_count": 3,
   "id": "e0fd92ea",
   "metadata": {},
   "outputs": [
    {
     "data": {
      "text/plain": [
       "-3.78"
      ]
     },
     "execution_count": 3,
     "metadata": {},
     "output_type": "execute_result"
    }
   ],
   "source": [
    "reachy.l_arm.l_arm_yaw.goal_position"
   ]
  },
  {
   "cell_type": "code",
   "execution_count": null,
   "id": "374c6c8a",
   "metadata": {},
   "outputs": [],
   "source": [
    "def organize_angles(reachy, reachy_angles, w = 0.5):\n",
    "    input_angles = {\n",
    "        reachy.r_arm.r_shoulder_pitch: reachy_angles['r_shoulder_pitch'],\n",
    "        reachy.r_arm.r_shoulder_roll: reachy_angles['r_shoulder_roll'],\n",
    "        reachy.r_arm.r_arm_yaw: reachy_angles['r_arm_yaw'],\n",
    "        reachy.r_arm.r_elbow_pitch: reachy_angles['r_elbow_pitch'],\n",
    "        reachy.r_arm.r_forearm_yaw: reachy_angles['r_forearm_yaw'],\n",
    "        reachy.r_arm.r_wrist_pitch: reachy_angles['r_wrist_pitch'],\n",
    "        reachy.r_arm.r_wrist_roll: reachy_angles['r_wrist_roll'],\n",
    "        \n",
    "        reachy.l_arm.l_shoulder_pitch: reachy_angles['l_shoulder_pitch'],\n",
    "        reachy.l_arm.l_shoulder_roll: reachy_angles['l_shoulder_roll'],\n",
    "        reachy.l_arm.l_arm_yaw: reachy_angles['l_arm_yaw'],\n",
    "        reachy.l_arm.l_elbow_pitch: reachy_angles['l_elbow_pitch'],\n",
    "        reachy.l_arm.l_forearm_yaw: reachy_angles['l_forearm_yaw'],\n",
    "        reachy.l_arm.l_wrist_pitch: reachy_angles['l_wrist_pitch'],\n",
    "        reachy.l_arm.l_wrist_roll: reachy_angles['l_wrist_roll'],\n",
    "    }\n",
    "    return input_angles"
   ]
  },
  {
   "cell_type": "code",
   "execution_count": null,
   "id": "ebc9d547",
   "metadata": {},
   "outputs": [],
   "source": [
    "reachy.turn_on('reachy')\n",
    "reachy_angles = pickle.load(open('out/REACHY_demo_motion.pkl', 'rb'))\n",
    "\n",
    "for reachy_angle in reachy_angles:\n",
    "    input_angles = organize_angles(reachy, reachy_angles)\n",
    "    goto(input_angles, duration=1.5)"
   ]
  },
  {
   "cell_type": "code",
   "execution_count": 6,
   "id": "691faff0",
   "metadata": {
    "scrolled": false
   },
   "outputs": [
    {
     "name": "stderr",
     "output_type": "stream",
     "text": [
      "INFO:openpifpaf.decoder.factory:No specific decoder requested. Using the first one from:\n",
      "  --decoder=cifcaf:0\n",
      "  --decoder=posesimilarity:0\n",
      "Use any of the above arguments to select one or multiple decoders and to suppress this message.\n",
      "INFO:openpifpaf.predictor:neural network device: cuda (CUDA available: True, count: 1)\n"
     ]
    },
    {
     "name": "stdout",
     "output_type": "stream",
     "text": [
      "Running openpifpaf for person detection...\n"
     ]
    },
    {
     "name": "stderr",
     "output_type": "stream",
     "text": [
      "  0%|          | 0/1 [00:00<?, ?it/s]INFO:openpifpaf.decoder.cifcaf:annotations 0: []\n",
      "INFO:openpifpaf.predictor:batch 0: ./tmp_imgs/0.jpg\n",
      "100%|██████████| 1/1 [00:01<00:00,  1.90s/it]INFO:openpifpaf.decoder.cifcaf:annotations 6: [47, 1, 0, 0, 0, 0]\n",
      "INFO:openpifpaf.predictor:batch 1: ./tmp_imgs/new.jpg\n",
      "2it [00:02,  1.16it/s]                       "
     ]
    },
    {
     "name": "stdout",
     "output_type": "stream",
     "text": [
      "src/openpifpaf/csrc/src/cif_hr.cpp:102: UserInfo: resizing cifhr buffer\n",
      "src/openpifpaf/csrc/src/occupancy.cpp:53: UserInfo: resizing occupancy buffer\n"
     ]
    },
    {
     "name": "stderr",
     "output_type": "stream",
     "text": [
      "2it [00:02,  1.04s/it]\n"
     ]
    },
    {
     "name": "stdout",
     "output_type": "stream",
     "text": [
      "Running reconstruction on each tracklet...\n"
     ]
    },
    {
     "name": "stderr",
     "output_type": "stream",
     "text": [
      "100%|██████████| 1/1 [00:00<00:00,  3.36it/s]\n"
     ]
    },
    {
     "name": "stdout",
     "output_type": "stream",
     "text": [
      "Total time spent for reconstruction: 2.67 seconds (including model loading time).\n",
      "Saving output results to \"output/output.pkl\".\n"
     ]
    },
    {
     "ename": "RuntimeError",
     "evalue": "mat1 and mat2 shapes cannot be multiplied (1x126 and 36x512)",
     "output_type": "error",
     "traceback": [
      "\u001b[0;31m---------------------------------------------------------------------------\u001b[0m",
      "\u001b[0;31mRuntimeError\u001b[0m                              Traceback (most recent call last)",
      "Cell \u001b[0;32mIn[6], line 15\u001b[0m\n\u001b[1;32m     13\u001b[0m curr_time \u001b[38;5;241m=\u001b[39m time\u001b[38;5;241m.\u001b[39mtime()\n\u001b[1;32m     14\u001b[0m pred \u001b[38;5;241m=\u001b[39m do_pred(\u001b[38;5;124m'\u001b[39m\u001b[38;5;124m./tmp_imgs/\u001b[39m\u001b[38;5;124m'\u001b[39m, model, args, device)\n\u001b[0;32m---> 15\u001b[0m reachy_angles \u001b[38;5;241m=\u001b[39m \u001b[43mdo_retarget\u001b[49m\u001b[43m(\u001b[49m\u001b[43mpred\u001b[49m\u001b[43m,\u001b[49m\u001b[43m \u001b[49m\u001b[43mmodel_pre\u001b[49m\u001b[43m,\u001b[49m\u001b[43m \u001b[49m\u001b[43mmodel_post\u001b[49m\u001b[43m)\u001b[49m[\u001b[38;5;241m0\u001b[39m]\n\u001b[1;32m     17\u001b[0m \u001b[38;5;28;01mif\u001b[39;00m \u001b[38;5;28mlen\u001b[39m(angle_saver) \u001b[38;5;241m>\u001b[39m\u001b[38;5;241m=\u001b[39m num_save:\n\u001b[1;32m     18\u001b[0m     angle_saver \u001b[38;5;241m=\u001b[39m angle_saver[\u001b[38;5;241m1\u001b[39m:]\n",
      "File \u001b[0;32m~/workspace/simple_retarget/new_retarget.py:45\u001b[0m, in \u001b[0;36mdo_retarget\u001b[0;34m(pred, model_pre, model_post, device, dim_reachy_angles)\u001b[0m\n\u001b[1;32m     42\u001b[0m smpl_rep \u001b[38;5;241m=\u001b[39m smpl_rep\u001b[38;5;241m.\u001b[39mreshape(length, num_joints, \u001b[38;5;241m6\u001b[39m)\u001b[38;5;241m.\u001b[39mreshape(length, \u001b[38;5;241m-\u001b[39m\u001b[38;5;241m1\u001b[39m)\n\u001b[1;32m     44\u001b[0m \u001b[38;5;28;01mwith\u001b[39;00m torch\u001b[38;5;241m.\u001b[39mno_grad():\n\u001b[0;32m---> 45\u001b[0m     pre_pred \u001b[38;5;241m=\u001b[39m \u001b[43mmodel_pre\u001b[49m\u001b[43m(\u001b[49m\u001b[43msmpl_rep\u001b[49m\u001b[38;5;241;43m.\u001b[39;49m\u001b[43mto\u001b[49m\u001b[43m(\u001b[49m\u001b[43mdevice\u001b[49m\u001b[43m)\u001b[49m\u001b[38;5;241;43m.\u001b[39;49m\u001b[43mfloat\u001b[49m\u001b[43m(\u001b[49m\u001b[43m)\u001b[49m\u001b[43m)\u001b[49m\n\u001b[1;32m     46\u001b[0m     post_pred \u001b[38;5;241m=\u001b[39m model_post(pre_pred)\n\u001b[1;32m     47\u001b[0m     post_pred \u001b[38;5;241m=\u001b[39m post_pred\u001b[38;5;241m.\u001b[39mdetach()\u001b[38;5;241m.\u001b[39mcpu()\u001b[38;5;241m.\u001b[39mnumpy()[:, :dim_reachy_angles]\n",
      "File \u001b[0;32m~/anaconda3/envs/py310/lib/python3.10/site-packages/torch/nn/modules/module.py:1194\u001b[0m, in \u001b[0;36mModule._call_impl\u001b[0;34m(self, *input, **kwargs)\u001b[0m\n\u001b[1;32m   1190\u001b[0m \u001b[38;5;66;03m# If we don't have any hooks, we want to skip the rest of the logic in\u001b[39;00m\n\u001b[1;32m   1191\u001b[0m \u001b[38;5;66;03m# this function, and just call forward.\u001b[39;00m\n\u001b[1;32m   1192\u001b[0m \u001b[38;5;28;01mif\u001b[39;00m \u001b[38;5;129;01mnot\u001b[39;00m (\u001b[38;5;28mself\u001b[39m\u001b[38;5;241m.\u001b[39m_backward_hooks \u001b[38;5;129;01mor\u001b[39;00m \u001b[38;5;28mself\u001b[39m\u001b[38;5;241m.\u001b[39m_forward_hooks \u001b[38;5;129;01mor\u001b[39;00m \u001b[38;5;28mself\u001b[39m\u001b[38;5;241m.\u001b[39m_forward_pre_hooks \u001b[38;5;129;01mor\u001b[39;00m _global_backward_hooks\n\u001b[1;32m   1193\u001b[0m         \u001b[38;5;129;01mor\u001b[39;00m _global_forward_hooks \u001b[38;5;129;01mor\u001b[39;00m _global_forward_pre_hooks):\n\u001b[0;32m-> 1194\u001b[0m     \u001b[38;5;28;01mreturn\u001b[39;00m \u001b[43mforward_call\u001b[49m\u001b[43m(\u001b[49m\u001b[38;5;241;43m*\u001b[39;49m\u001b[38;5;28;43minput\u001b[39;49m\u001b[43m,\u001b[49m\u001b[43m \u001b[49m\u001b[38;5;241;43m*\u001b[39;49m\u001b[38;5;241;43m*\u001b[39;49m\u001b[43mkwargs\u001b[49m\u001b[43m)\u001b[49m\n\u001b[1;32m   1195\u001b[0m \u001b[38;5;66;03m# Do not call functions when jit is used\u001b[39;00m\n\u001b[1;32m   1196\u001b[0m full_backward_hooks, non_full_backward_hooks \u001b[38;5;241m=\u001b[39m [], []\n",
      "File \u001b[0;32m~/workspace/simple_retarget/src/net.py:14\u001b[0m, in \u001b[0;36mMLP.forward\u001b[0;34m(self, inp)\u001b[0m\n\u001b[1;32m     13\u001b[0m \u001b[38;5;28;01mdef\u001b[39;00m \u001b[38;5;21mforward\u001b[39m(\u001b[38;5;28mself\u001b[39m, inp):\n\u001b[0;32m---> 14\u001b[0m     out \u001b[38;5;241m=\u001b[39m \u001b[38;5;28mself\u001b[39m\u001b[38;5;241m.\u001b[39macti(\u001b[38;5;28;43mself\u001b[39;49m\u001b[38;5;241;43m.\u001b[39;49m\u001b[43mfc1\u001b[49m\u001b[43m(\u001b[49m\u001b[43minp\u001b[49m\u001b[43m)\u001b[49m)\n\u001b[1;32m     15\u001b[0m     out \u001b[38;5;241m=\u001b[39m \u001b[38;5;28mself\u001b[39m\u001b[38;5;241m.\u001b[39macti(\u001b[38;5;28mself\u001b[39m\u001b[38;5;241m.\u001b[39mfc2(out))\n\u001b[1;32m     16\u001b[0m     out \u001b[38;5;241m=\u001b[39m \u001b[38;5;28mself\u001b[39m\u001b[38;5;241m.\u001b[39mfc3(out)\n",
      "File \u001b[0;32m~/anaconda3/envs/py310/lib/python3.10/site-packages/torch/nn/modules/module.py:1194\u001b[0m, in \u001b[0;36mModule._call_impl\u001b[0;34m(self, *input, **kwargs)\u001b[0m\n\u001b[1;32m   1190\u001b[0m \u001b[38;5;66;03m# If we don't have any hooks, we want to skip the rest of the logic in\u001b[39;00m\n\u001b[1;32m   1191\u001b[0m \u001b[38;5;66;03m# this function, and just call forward.\u001b[39;00m\n\u001b[1;32m   1192\u001b[0m \u001b[38;5;28;01mif\u001b[39;00m \u001b[38;5;129;01mnot\u001b[39;00m (\u001b[38;5;28mself\u001b[39m\u001b[38;5;241m.\u001b[39m_backward_hooks \u001b[38;5;129;01mor\u001b[39;00m \u001b[38;5;28mself\u001b[39m\u001b[38;5;241m.\u001b[39m_forward_hooks \u001b[38;5;129;01mor\u001b[39;00m \u001b[38;5;28mself\u001b[39m\u001b[38;5;241m.\u001b[39m_forward_pre_hooks \u001b[38;5;129;01mor\u001b[39;00m _global_backward_hooks\n\u001b[1;32m   1193\u001b[0m         \u001b[38;5;129;01mor\u001b[39;00m _global_forward_hooks \u001b[38;5;129;01mor\u001b[39;00m _global_forward_pre_hooks):\n\u001b[0;32m-> 1194\u001b[0m     \u001b[38;5;28;01mreturn\u001b[39;00m \u001b[43mforward_call\u001b[49m\u001b[43m(\u001b[49m\u001b[38;5;241;43m*\u001b[39;49m\u001b[38;5;28;43minput\u001b[39;49m\u001b[43m,\u001b[49m\u001b[43m \u001b[49m\u001b[38;5;241;43m*\u001b[39;49m\u001b[38;5;241;43m*\u001b[39;49m\u001b[43mkwargs\u001b[49m\u001b[43m)\u001b[49m\n\u001b[1;32m   1195\u001b[0m \u001b[38;5;66;03m# Do not call functions when jit is used\u001b[39;00m\n\u001b[1;32m   1196\u001b[0m full_backward_hooks, non_full_backward_hooks \u001b[38;5;241m=\u001b[39m [], []\n",
      "File \u001b[0;32m~/anaconda3/envs/py310/lib/python3.10/site-packages/torch/nn/modules/linear.py:114\u001b[0m, in \u001b[0;36mLinear.forward\u001b[0;34m(self, input)\u001b[0m\n\u001b[1;32m    113\u001b[0m \u001b[38;5;28;01mdef\u001b[39;00m \u001b[38;5;21mforward\u001b[39m(\u001b[38;5;28mself\u001b[39m, \u001b[38;5;28minput\u001b[39m: Tensor) \u001b[38;5;241m-\u001b[39m\u001b[38;5;241m>\u001b[39m Tensor:\n\u001b[0;32m--> 114\u001b[0m     \u001b[38;5;28;01mreturn\u001b[39;00m \u001b[43mF\u001b[49m\u001b[38;5;241;43m.\u001b[39;49m\u001b[43mlinear\u001b[49m\u001b[43m(\u001b[49m\u001b[38;5;28;43minput\u001b[39;49m\u001b[43m,\u001b[49m\u001b[43m \u001b[49m\u001b[38;5;28;43mself\u001b[39;49m\u001b[38;5;241;43m.\u001b[39;49m\u001b[43mweight\u001b[49m\u001b[43m,\u001b[49m\u001b[43m \u001b[49m\u001b[38;5;28;43mself\u001b[39;49m\u001b[38;5;241;43m.\u001b[39;49m\u001b[43mbias\u001b[49m\u001b[43m)\u001b[49m\n",
      "\u001b[0;31mRuntimeError\u001b[0m: mat1 and mat2 shapes cannot be multiplied (1x126 and 36x512)"
     ]
    }
   ],
   "source": [
    "reachy.turn_on('reachy')\n",
    "angle_saver = []\n",
    "num_save = 10\n",
    "for i in range(1000):\n",
    "    img = reachy.left_camera.last_frame # change this line to get webcam images\n",
    "    img = np.flip(img, 1)\n",
    "    img = cv2.cvtColor(img, cv2.COLOR_BGR2RGB)\n",
    "    plt.imsave('./tmp_imgs/0.jpg', img)\n",
    "    ### below is the image saving code\n",
    "    plt.imsave('./imgs4iros/{}.jpg'.format(i), img)\n",
    "\n",
    "    curr_time = time.time()\n",
    "    pred = do_pred('./tmp_imgs/', model, args, device)\n",
    "    reachy_angles = do_retarget(pred, model_pre, model_post)[0]\n",
    "    \n",
    "    if len(angle_saver) >= num_save:\n",
    "        angle_saver = angle_saver[1:]\n",
    "    angle_saver.append(reachy_angles)\n",
    "        \n",
    "    final_angle = dict()\n",
    "    for k in angle_saver[0].keys():\n",
    "        values = []\n",
    "        for a in angle_saver:\n",
    "            values.append(a[k])\n",
    "        final_angle[k] = np.mean(values)\n",
    "    \n",
    "    input_angles = organize_angles(reachy, reachy_angles)\n",
    "\n",
    "    goto(input_angles, duration=1.5)\n",
    "#     async def rec():\n",
    "#         await asyncio.sleep(0.001)\n",
    "\n",
    "#     async def play():\n",
    "#         await goto_async(input_angles, duration=2)\n",
    "\n",
    "#     await asyncio.gather(\n",
    "#         play(),\n",
    "#         rec(),\n",
    "#     )\n",
    "\n",
    "#     img = do_render(pred, './tmp_imgs', args, smpl2part, part_faces)\n",
    "    e_time = time.time() - curr_time\n",
    "    \n",
    "    print(e_time)\n",
    "#     ax.imshow(img)\n",
    "#     fig.canvas.draw()\n"
   ]
  },
  {
   "cell_type": "code",
   "execution_count": null,
   "id": "fa1e0e2e",
   "metadata": {},
   "outputs": [],
   "source": [
    "reachy.turn_off_smoothly('reachy')"
   ]
  },
  {
   "cell_type": "code",
   "execution_count": null,
   "id": "acd544fd",
   "metadata": {},
   "outputs": [],
   "source": [
    "# reachy.turn_on('reachy')"
   ]
  },
  {
   "cell_type": "code",
   "execution_count": null,
   "id": "08294a2d",
   "metadata": {},
   "outputs": [],
   "source": [
    "# import asyncio\n",
    "# from reachy_sdk.trajectory import goto_async\n",
    "\n",
    "# running = [True]\n",
    "# data = []\n",
    "\n",
    "# async def rec():\n",
    "#     await asyncio.sleep(0.01)\n",
    "        \n",
    "# async def play():\n",
    "#     await goto_async(input_angles, duration=1)\n",
    "#     running[0]=False\n",
    "    \n",
    "# await asyncio.gather(\n",
    "#     play(),\n",
    "#     rec(),\n",
    "# )"
   ]
  },
  {
   "cell_type": "code",
   "execution_count": null,
   "id": "0c512eab",
   "metadata": {},
   "outputs": [],
   "source": []
  }
 ],
 "metadata": {
  "kernelspec": {
   "display_name": "py310",
   "language": "python",
   "name": "python3"
  },
  "language_info": {
   "codemirror_mode": {
    "name": "ipython",
    "version": 3
   },
   "file_extension": ".py",
   "mimetype": "text/x-python",
   "name": "python",
   "nbconvert_exporter": "python",
   "pygments_lexer": "ipython3",
   "version": "3.8.19"
  }
 },
 "nbformat": 4,
 "nbformat_minor": 5
}
